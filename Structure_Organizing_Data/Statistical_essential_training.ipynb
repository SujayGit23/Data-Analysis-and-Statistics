{
 "cells": [
  {
   "cell_type": "code",
   "execution_count": 48,
   "metadata": {
    "collapsed": true
   },
   "outputs": [],
   "source": [
    "import numpy as np\n",
    "import pandas as pd\n",
    "\n",
    "import matplotlib\n",
    "import matplotlib.pyplot as pp\n",
    "%matplotlib inline"
   ]
  },
  {
   "cell_type": "code",
   "execution_count": 49,
   "metadata": {
    "collapsed": true
   },
   "outputs": [
    {
     "name": "stdout",
     "output_type": "stream",
     "text": [
      "  iso2  year  m04  m514  m014  m1524  m2534  m3544  m4554  m5564 ...  f04  \\\n0   AD  1989  NaN   NaN   NaN    NaN    NaN    NaN    NaN    NaN ...  NaN   \n1   AD  1990  NaN   NaN   NaN    NaN    NaN    NaN    NaN    NaN ...  NaN   \n2   AD  1991  NaN   NaN   NaN    NaN    NaN    NaN    NaN    NaN ...  NaN   \n3   AD  1992  NaN   NaN   NaN    NaN    NaN    NaN    NaN    NaN ...  NaN   \n4   AD  1993  NaN   NaN   NaN    NaN    NaN    NaN    NaN    NaN ...  NaN   \n\n   f514  f014  f1524  f2534  f3544  f4554  f5564  f65  fu  \n0   NaN   NaN    NaN    NaN    NaN    NaN    NaN  NaN NaN  \n1   NaN   NaN    NaN    NaN    NaN    NaN    NaN  NaN NaN  \n2   NaN   NaN    NaN    NaN    NaN    NaN    NaN  NaN NaN  \n3   NaN   NaN    NaN    NaN    NaN    NaN    NaN  NaN NaN  \n4   NaN   NaN    NaN    NaN    NaN    NaN    NaN  NaN NaN  \n\n[5 rows x 22 columns]\nIndex(['iso2', 'year', 'm04', 'm514', 'm014', 'm1524', 'm2534', 'm3544',\n       'm4554', 'm5564', 'm65', 'mu', 'f04', 'f514', 'f014', 'f1524', 'f2534',\n       'f3544', 'f4554', 'f5564', 'f65', 'fu'],\n      dtype='object')\n"
     ]
    }
   ],
   "source": [
    "tb = pd.read_csv('C:/Users/Sujay/Workspace/Structure_Organizing_Data/tb.csv')\n",
    "print(tb.head())\n",
    "print (tb.columns)"
   ]
  },
  {
   "cell_type": "heading",
   "metadata": {},
   "level": 3,
   "source": [
    "Pandas melting operation"
   ]
  },
  {
   "cell_type": "code",
   "execution_count": 50,
   "metadata": {
    "collapsed": false
   },
   "outputs": [
    {
     "name": "stdout",
     "output_type": "stream",
     "text": [
      "  country  year sexage  cases\n0      AD  1989   m514    NaN\n1      AD  1990   m514    NaN\n2      AD  1991   m514    NaN\n3      AD  1992   m514    NaN\n4      AD  1993   m514    NaN\n"
     ]
    }
   ],
   "source": [
    "''' melt([required columns],[other columns],[melting columns],[melting columns values])'''\n",
    "\n",
    "melted = tb.melt(['iso2','year'],['m514', 'm014', 'm1524', 'm2534', 'm3544',\n",
    "       'm4554', 'm5564', 'm65', 'mu', 'f04', 'f514', 'f014', 'f1524', 'f2534',\n",
    "       'f3544', 'f4554', 'f5564', 'f65', 'fu'],'sexage','cases')\n",
    "melted.columns = ['country','year','sexage','cases']\n",
    "print(melted.head())"
   ]
  },
  {
   "cell_type": "heading",
   "metadata": {},
   "level": 3,
   "source": [
    "String slicing operation "
   ]
  },
  {
   "cell_type": "code",
   "execution_count": 52,
   "metadata": {},
   "outputs": [
    {
     "name": "stdout",
     "output_type": "stream",
     "text": [
      "  country  year sexage  cases sex  age\n0      AD  1989   m514    NaN   m  514\n1      AD  1990   m514    NaN   m  514\n2      AD  1991   m514    NaN   m  514\n3      AD  1992   m514    NaN   m  514\n4      AD  1993   m514    NaN   m  514\n"
     ]
    }
   ],
   "source": [
    "melted['sex'] = melted['sexage'].str.slice(0,1)\n",
    "melted['age'] = melted['sexage'].str.slice(1)\n",
    "print(melted.head())"
   ]
  },
  {
   "cell_type": "code",
   "execution_count": 53,
   "metadata": {},
   "outputs": [],
   "source": [
    "melted['age'] = melted['age'].map({'04':'0-4','514':'5-14','1524':'15-24','2534':'25-34',\n",
    "                                   '3544':'35-44','4554':'45-54','5564':'55-64','65':'65+',\n",
    "                                   'u':np.nan})\n",
    "\n"
   ]
  },
  {
   "cell_type": "code",
   "execution_count": 55,
   "metadata": {},
   "outputs": [
    {
     "name": "stdout",
     "output_type": "stream",
     "text": [
      "  country  year sexage  cases sex   age\n0      AD  1989   m514    NaN   m  5-14\n1      AD  1990   m514    NaN   m  5-14\n2      AD  1991   m514    NaN   m  5-14\n3      AD  1992   m514    NaN   m  5-14\n4      AD  1993   m514    NaN   m  5-14\n"
     ]
    }
   ],
   "source": [
    "print(melted.head())"
   ]
  },
  {
   "cell_type": "code",
   "execution_count": 57,
   "metadata": {},
   "outputs": [
    {
     "name": "stdout",
     "output_type": "stream",
     "text": [
      "   country  year sexage  cases sex   age\n15      AD  2005   m514    0.0   m  5-14\n16      AD  2006   m514    0.0   m  5-14\n18      AD  2008   m514    0.0   m  5-14\n42      AE  2006   m514    0.0   m  5-14\n43      AE  2007   m514    2.0   m  5-14\n"
     ]
    }
   ],
   "source": [
    "finalmelt = melted.dropna(subset=['cases'])\n",
    "print(finalmelt.head())"
   ]
  },
  {
   "cell_type": "code",
   "execution_count": 58,
   "metadata": {},
   "outputs": [
    {
     "name": "stdout",
     "output_type": "stream",
     "text": [
      "   country  year sexage  cases sex   age\n15      AD  2005   m514    0.0   m  5-14\n16      AD  2006   m514    0.0   m  5-14\n18      AD  2008   m514    0.0   m  5-14\n42      AE  2006   m514    0.0   m  5-14\n43      AE  2007   m514    2.0   m  5-14\n"
     ]
    }
   ],
   "source": [
    "finalmelt.sort_values(['country','year','age','sex'])\n",
    "print(finalmelt.head())"
   ]
  },
  {
   "cell_type": "code",
   "execution_count": 60,
   "metadata": {},
   "outputs": [
    {
     "name": "stdout",
     "output_type": "stream",
     "text": [
      "    country  year   age sex  cases\n15       AD  2005  5-14   m    0.0\n16       AD  2006  5-14   m    0.0\n18       AD  2008  5-14   m    0.0\n42       AE  2006  5-14   m    0.0\n43       AE  2007  5-14   m    2.0\n44       AE  2008  5-14   m    0.0\n94       AG  2007  5-14   m    0.0\n141      AL  2005  5-14   m    0.0\n142      AL  2006  5-14   m    4.0\n143      AL  2007  5-14   m    0.0\n"
     ]
    }
   ],
   "source": [
    "final = finalmelt[['country','year','age','sex','cases']]\n",
    "print(final.head(10))"
   ]
  },
  {
   "cell_type": "code",
   "execution_count": 62,
   "metadata": {},
   "outputs": [],
   "source": [
    "final.to_csv('C:/Users/Sujay/Workspace/Structure_Organizing_Data/final.csv',index=False)"
   ]
  },
  {
   "cell_type": "code",
   "execution_count": 67,
   "metadata": {},
   "outputs": [
    {
     "name": "stdout",
     "output_type": "stream",
     "text": [
      "  country  year   age sex  cases\n0      AD  2005  5-14   m    0.0\n1      AD  2006  5-14   m    0.0\n2      AD  2008  5-14   m    0.0\n3      AE  2006  5-14   m    0.0\n4      AE  2007  5-14   m    2.0\n"
     ]
    }
   ],
   "source": [
    "print(pd.read_csv('C:/Users/Sujay/Workspace/Structure_Organizing_Data/final.csv').head())"
   ]
  }
 ],
 "metadata": {
  "kernelspec": {
   "display_name": "Python 2",
   "language": "python",
   "name": "python2"
  },
  "language_info": {
   "codemirror_mode": {
    "name": "ipython",
    "version": 2
   },
   "file_extension": ".py",
   "mimetype": "text/x-python",
   "name": "python",
   "nbconvert_exporter": "python",
   "pygments_lexer": "ipython2",
   "version": "2.7.6"
  }
 },
 "nbformat": 4,
 "nbformat_minor": 0
}
