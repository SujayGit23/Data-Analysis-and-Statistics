{
 "cells": [
  {
   "cell_type": "code",
   "execution_count": 1,
   "metadata": {
    "collapsed": true
   },
   "outputs": [
    {
     "data": {
      "text/plain": [
       "'\\nCategorical data is described as how observations are distributed across \\nvariables categories.Categorical variables only assume a fixed number of values.\\nCategorical data can be easily summarizable using counts,grouping,variable descriptions\\nor cross tabulations\\n'"
      ]
     },
     "execution_count": 1,
     "metadata": {},
     "output_type": "execute_result"
    }
   ],
   "source": [
    "''' Categorical data is described as how observations are distributed across \n",
    "variables categories.Categorical variables only assume a fixed number of values.\n",
    "Categorical data can be easily summarizable using counts,grouping,variable descriptions\n",
    "or cross tabulations '''"
   ]
  },
  {
   "cell_type": "code",
   "execution_count": 2,
   "metadata": {},
   "outputs": [],
   "source": [
    "import numpy as np\n",
    "import pandas as pd"
   ]
  },
  {
   "cell_type": "code",
   "execution_count": 4,
   "metadata": {},
   "outputs": [
    {
     "name": "stdout",
     "output_type": "stream",
     "text": [
      "             cars_name   mpg  cyl   disp   hp  drat     wt   qsec  vs  am  \\\n0            Mazda RX4  21.0    6  160.0  110  3.90  2.620  16.46   0   1   \n1        Mazda RX4 Wag  21.0    6  160.0  110  3.90  2.875  17.02   0   1   \n2           Datsun 710  22.8    4  108.0   93  3.85  2.320  18.61   1   1   \n3       Hornet 4 Drive  21.4    6  258.0  110  3.08  3.215  19.44   1   0   \n4    Hornet Sportabout  18.7    8  360.0  175  3.15  3.440  17.02   0   0   \n5              Valiant  18.1    6  225.0  105  2.76  3.460  20.22   1   0   \n6           Duster 360  14.3    8  360.0  245  3.21  3.570  15.84   0   0   \n7            Merc 240D  24.4    4  146.7   62  3.69  3.190  20.00   1   0   \n8             Merc 230  22.8    4  140.8   95  3.92  3.150  22.90   1   0   \n9             Merc 280  19.2    6  167.6  123  3.92  3.440  18.30   1   0   \n10           Merc 280C  17.8    6  167.6  123  3.92  3.440  18.90   1   0   \n11          Merc 450SE  16.4    8  275.8  180  3.07  4.070  17.40   0   0   \n12          Merc 450SL  17.3    8  275.8  180  3.07  3.730  17.60   0   0   \n13         Merc 450SLC  15.2    8  275.8  180  3.07  3.780  18.00   0   0   \n14  Cadillac Fleetwood  10.4    8  472.0  205  2.93  5.250  17.98   0   0   \n\n    gear  carb  \n0      4     4  \n1      4     4  \n2      4     1  \n3      3     1  \n4      3     2  \n5      3     1  \n6      3     4  \n7      4     2  \n8      4     2  \n9      4     4  \n10     4     4  \n11     3     3  \n12     3     3  \n13     3     3  \n14     3     4  \n"
     ]
    }
   ],
   "source": [
    "addr = \"C:/Users/Sujay/Workspace/Maths_Statistics/mtcars.csv\"\n",
    "cars = pd.read_csv(addr)\n",
    "cars.columns = ['cars_name','mpg','cyl','disp','hp','drat','wt','qsec','vs','am','gear','carb']\n",
    "print(cars.head(15))"
   ]
  },
  {
   "cell_type": "code",
   "execution_count": 5,
   "metadata": {},
   "outputs": [
    {
     "data": {
      "text/plain": [
       "4    10\n2    10\n1     7\n3     3\n8     1\n6     1\nName: carb, dtype: int64"
      ]
     },
     "execution_count": 5,
     "metadata": {},
     "output_type": "execute_result"
    }
   ],
   "source": [
    "carb = cars.carb\n",
    "carb.value_counts()"
   ]
  },
  {
   "cell_type": "code",
   "execution_count": 9,
   "metadata": {},
   "outputs": [
    {
     "name": "stdout",
     "output_type": "stream",
     "text": [
      "   cyl  vs  am  gear  carb\n0    6   0   1     4     4\n1    6   0   1     4     4\n2    4   1   1     4     1\n3    6   1   0     3     1\n4    8   0   0     3     2\n"
     ]
    }
   ],
   "source": [
    "cars_cat = cars[['cyl','vs','am','gear','carb']]\n",
    "print(cars_cat.head())"
   ]
  },
  {
   "cell_type": "code",
   "execution_count": 12,
   "metadata": {},
   "outputs": [
    {
     "name": "stdout",
     "output_type": "stream",
     "text": [
      "        am                                               carb           ...   \\\n     count      mean       std  min  25%  50%  75%  max count      mean ...    \ngear                                                                    ...    \n3     15.0  0.000000  0.000000  0.0  0.0  0.0  0.0  0.0  15.0  2.666667 ...    \n4     12.0  0.666667  0.492366  0.0  0.0  1.0  1.0  1.0  12.0  2.333333 ...    \n5      5.0  1.000000  0.000000  1.0  1.0  1.0  1.0  1.0   5.0  4.400000 ...    \n\n      cyl         vs                                               \n      75%  max count      mean       std  min  25%  50%  75%  max  \ngear                                                               \n3     8.0  8.0  15.0  0.200000  0.414039  0.0  0.0  0.0  0.0  1.0  \n4     6.0  6.0  12.0  0.833333  0.389249  0.0  1.0  1.0  1.0  1.0  \n5     8.0  8.0   5.0  0.200000  0.447214  0.0  0.0  0.0  0.0  1.0  \n\n[3 rows x 32 columns]\n"
     ]
    }
   ],
   "source": [
    "gears_group = cars_cat.groupby('gear')\n",
    "print(gears_group.describe())"
   ]
  },
  {
   "cell_type": "code",
   "execution_count": 15,
   "metadata": {},
   "outputs": [],
   "source": [
    "cars['group'] = pd.Series(cars.gear,dtype='category')"
   ]
  },
  {
   "cell_type": "code",
   "execution_count": 20,
   "metadata": {},
   "outputs": [
    {
     "data": {
      "text/plain": [
       "3    15\n4    12\n5     5\nName: group, dtype: int64"
      ]
     },
     "execution_count": 20,
     "metadata": {},
     "output_type": "execute_result"
    }
   ],
   "source": [
    "cars['group'].value_counts()"
   ]
  },
  {
   "cell_type": "code",
   "execution_count": 24,
   "metadata": {},
   "outputs": [
    {
     "name": "stdout",
     "output_type": "stream",
     "text": [
      "gear   3  4  5\nam            \n0     15  4  0\n1      0  8  5\n"
     ]
    }
   ],
   "source": [
    "print(pd.crosstab(cars['am'],cars['gear']))"
   ]
  }
 ],
 "metadata": {
  "kernelspec": {
   "display_name": "Python 2",
   "language": "python",
   "name": "python2"
  },
  "language_info": {
   "codemirror_mode": {
    "name": "ipython",
    "version": 2
   },
   "file_extension": ".py",
   "mimetype": "text/x-python",
   "name": "python",
   "nbconvert_exporter": "python",
   "pygments_lexer": "ipython2",
   "version": "2.7.6"
  }
 },
 "nbformat": 4,
 "nbformat_minor": 0
}
