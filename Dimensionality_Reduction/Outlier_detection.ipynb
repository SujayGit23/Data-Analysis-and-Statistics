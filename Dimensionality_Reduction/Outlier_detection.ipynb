{
 "cells": [
  {
   "cell_type": "heading",
   "metadata": {
    "collapsed": true
   },
   "level": 3,
   "source": [
    "Applications of Outliers"
   ]
  },
  {
   "cell_type": "code",
   "execution_count": null,
   "metadata": {},
   "outputs": [],
   "source": [
    "'''\n",
    "- Preprocessing task for analysis or Machine learning\n",
    "- An analytic method of own merit  '''"
   ]
  },
  {
   "cell_type": "code",
   "execution_count": null,
   "metadata": {},
   "outputs": [],
   "source": [
    "'''Three main types of outliers\n",
    "- Point outliers - observation anamolos w.r.t to the majority of observations in a feature\n",
    "- Contextual outlier - observations considered anamalous given a specific context,\n",
    "  say, temp of 80 deg in Jan north california is not an unusual, but temp of 80 in Jan in moscow \n",
    "   is unusual. this is temp of 80 in moscow in jan is outlier\n",
    "- Collective outlier - a collection of oberservations anamolous but appear close to one another \n",
    "   because they all have similar anomalous value  '''  "
   ]
  },
  {
   "cell_type": "code",
   "execution_count": null,
   "metadata": {},
   "outputs": [],
   "source": [
    "'''\n",
    "Univariate Method : Tukey Boxplots\n",
    "InterQuantile range (IQR) :\n",
    "1.Upper Quartile : 25% of the data points are greater than this value\n",
    "2.Median\n",
    "3. Lower Quartile : 25% of the data points are lesser than this value\n",
    "\n",
    "The data points beyond this quantiles are considered outliers. These are investigated using\n",
    "Tukey Boxplots. Boxplots are used to detect outliers\n",
    "\n",
    "Boxplot whiskers are set at 1.5(IQR).If you see data points past these whiskers, they're outliers.\n",
    "InterQuatileRange (IQR) is distance between Upper and Lower Quanrtiles,\n",
    "the data points in this range are not considered as outliers '''"
   ]
  },
  {
   "cell_type": "code",
   "execution_count": 4,
   "metadata": {},
   "outputs": [],
   "source": [
    "import numpy as np\n",
    "import pandas as pd\n",
    "\n",
    "import matplotlib.pyplot as plt\n",
    "from pylab import rcParams\n",
    "import sklearn\n",
    "from sklearn import datasets"
   ]
  },
  {
   "cell_type": "code",
   "execution_count": 21,
   "metadata": {},
   "outputs": [],
   "source": [
    "%matplotlib inline\n",
    "rcParams['figure.figsize'] = 10,10"
   ]
  },
  {
   "cell_type": "code",
   "execution_count": 13,
   "metadata": {},
   "outputs": [
    {
     "name": "stdout",
     "output_type": "stream",
     "text": [
      "  Sepal Length Sepal Width Petal Length Petal Width      Species\n0  SepalLength  SepalWidth  PetalLength  PetalWidth      Species\n1          5.1         3.5          1.4         0.2  Iris-setosa\n2          4.9           3          1.4         0.2  Iris-setosa\n3          4.7         3.2          1.3         0.2  Iris-setosa\n4          4.6         3.1          1.5         0.2  Iris-setosa\n"
     ]
    }
   ],
   "source": [
    "addr = \"C:/Users/Sujay/Workspace/Dimensionality_Reduction/iris.csv\" \n",
    "df = pd.read_csv(filepath_or_buffer=addr,header=None,sep=',')\n",
    "df.columns = ['Sepal Length','Sepal Width','Petal Length','Petal Width','Species']\n",
    "X = df.iloc[:,0:4].values\n",
    "Y = df.iloc[:,4].values\n",
    "print(df[:5])"
   ]
  },
  {
   "cell_type": "heading",
   "metadata": {},
   "level": 3,
   "source": [
    "Identifying outliers from Tukey BoxPlot"
   ]
  },
  {
   "cell_type": "code",
   "execution_count": 22,
   "metadata": {},
   "outputs": [
    {
     "data": {
      "text/plain": [
       "[]"
      ]
     },
     "execution_count": 22,
     "metadata": {},
     "output_type": "execute_result"
    },
    {
     "data": {
      "image/png": "[encoded data removed]",
      "text/plain": [
       "<Figure size 720x720 with 1 Axes>"
      ]
     },
     "metadata": {},
     "output_type": "display_data"
    }
   ],
   "source": [
    "df.boxplot(return_type='dict')\n",
    "plt.plot()"
   ]
  },
  {
   "cell_type": "code",
   "execution_count": 35,
   "metadata": {},
   "outputs": [
    {
     "name": "stdout",
     "output_type": "stream",
     "text": [
      "['3.5' '3' '3.2' '3.1' '3.6' '3.9' '3.4' '3.4' '2.9' '3.1' '3.7' '3.4' '3'\n '3' '4' '4.4' '3.9' '3.5' '3.8' '3.8' '3.4' '3.7' '3.6' '3.3' '3.4' '3'\n '3.4' '3.5' '3.4' '3.2' '3.1' '3.4' '4.1' '4.2' '3.1' '3.2' '3.5' '3.1'\n '3' '3.4' '3.5' '2.3' '3.2' '3.5' '3.8' '3' '3.8' '3.2' '3.7' '3.3' '3.2'\n '3.2' '3.1' '2.3' '2.8' '2.8' '3.3' '2.4' '2.9' '2.7' '2' '3' '2.2' '2.9'\n '2.9' '3.1' '3' '2.7' '2.2' '2.5' '3.2' '2.8' '2.5' '2.8' '2.9' '3' '2.8'\n '3' '2.9' '2.6' '2.4' '2.4' '2.7' '2.7' '3' '3.4' '3.1' '2.3' '3' '2.5'\n '2.6' '3' '2.6' '2.3' '2.7' '3' '2.9' '2.9' '2.5' '2.8' '3.3' '2.7' '3'\n '2.9' '3' '3' '2.5' '2.9' '2.5' '3.6' '3.2' '2.7' '3' '2.5' '2.8' '3.2'\n '3' '3.8' '2.6' '2.2' '3.2' '2.8' '2.8' '2.7' '3.3' '3.2' '2.8' '3' '2.8'\n '3' '2.8' '3.8' '2.8' '2.8' '2.6' '3' '3.4' '3.1' '3' '3.1' '3.1' '3.1'\n '2.7' '3.2' '3.3' '3' '2.5' '3' '3.4' '3']\n"
     ]
    },
    {
     "ename": "AttributeError",
     "evalue": "'list' object has no attribute 'values'",
     "traceback": [
      "\u001b[1;31m---------------------------------------------------------------------------\u001b[0m",
      "\u001b[1;31mAttributeError\u001b[0m                            Traceback (most recent call last)",
      "\u001b[1;32m<ipython-input-35-0fba24ff0414>\u001b[0m in \u001b[0;36m<module>\u001b[1;34m\u001b[0m\n\u001b[0;32m      2\u001b[0m \u001b[0mprint\u001b[0m\u001b[1;33m(\u001b[0m\u001b[0mcur_arr\u001b[0m\u001b[1;33m)\u001b[0m\u001b[1;33m\u001b[0m\u001b[1;33m\u001b[0m\u001b[0m\n\u001b[0;32m      3\u001b[0m \u001b[0mSepal_Width\u001b[0m \u001b[1;33m=\u001b[0m \u001b[1;33m[\u001b[0m\u001b[0mfloat\u001b[0m\u001b[1;33m(\u001b[0m\u001b[0mnum_arr\u001b[0m\u001b[1;33m)\u001b[0m\u001b[1;32mfor\u001b[0m \u001b[0mnum_arr\u001b[0m \u001b[1;32min\u001b[0m \u001b[0mcur_arr\u001b[0m\u001b[1;33m]\u001b[0m\u001b[1;33m\u001b[0m\u001b[1;33m\u001b[0m\u001b[0m\n\u001b[1;32m----> 4\u001b[1;33m \u001b[0miris_outliers\u001b[0m \u001b[1;33m=\u001b[0m \u001b[1;33m(\u001b[0m\u001b[0mSepal_Width\u001b[0m\u001b[1;33m.\u001b[0m\u001b[0mvalues\u001b[0m \u001b[1;33m>\u001b[0m \u001b[1;36m4.0\u001b[0m\u001b[1;33m)\u001b[0m\u001b[1;33m\u001b[0m\u001b[1;33m\u001b[0m\u001b[0m\n\u001b[0m\u001b[0;32m      5\u001b[0m \u001b[0mdf\u001b[0m\u001b[1;33m[\u001b[0m\u001b[0miris_outliers\u001b[0m\u001b[1;33m]\u001b[0m\u001b[1;33m\u001b[0m\u001b[1;33m\u001b[0m\u001b[0m\n",
      "\u001b[1;31mAttributeError\u001b[0m: 'list' object has no attribute 'values'"
     ],
     "output_type": "error"
    }
   ],
   "source": [
    "cur_arr = X[1:,1]\n",
    "print(cur_arr)\n",
    "Sepal_Width = [float(num_arr)for num_arr in cur_arr]\n",
    "iris_outliers = (Sepal_Width.values > 4.0)\n",
    "df[iris_outliers]"
   ]
  },
  {
   "cell_type": "code",
   "execution_count": null,
   "metadata": {},
   "outputs": [],
   "source": []
  }
 ],
 "metadata": {
  "kernelspec": {
   "display_name": "Python 2",
   "language": "python",
   "name": "python2"
  },
  "language_info": {
   "codemirror_mode": {
    "name": "ipython",
    "version": 2
   },
   "file_extension": ".py",
   "mimetype": "text/x-python",
   "name": "python",
   "nbconvert_exporter": "python",
   "pygments_lexer": "ipython2",
   "version": "2.7.6"
  }
 },
 "nbformat": 4,
 "nbformat_minor": 0
}
