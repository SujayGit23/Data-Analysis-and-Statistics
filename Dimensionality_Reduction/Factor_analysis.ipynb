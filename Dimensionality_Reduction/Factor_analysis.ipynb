{
 "cells": [
  {
   "cell_type": "code",
   "execution_count": null,
   "metadata": {
    "collapsed": true
   },
   "outputs": [],
   "source": [
    "''' Factor analysis is a regression method, which is applied to discover root causes\n",
    "or hidden factors, to say why data is acting in a certain way. Or present in a dataset\n",
    "but not observable.\n",
    "Factors are latent variables, that are quite meaningful but are inferred and not directly\n",
    "observable. These factors are actually synthetic representation of datasets with the \n",
    "extra dimensionality and information redundancy\n",
    "\n",
    "Factor analysis Assumptions\n",
    "1. Features are metric\n",
    "2. Features are either continuos or ordinal\n",
    "3. There is a ' r > 0.3 correlation between the features in the data set\n",
    "4. Have more than 100 observations and  > 5 observations per feature\n",
    "5. Sample is homogenous '''"
   ]
  },
  {
   "cell_type": "code",
   "execution_count": null,
   "metadata": {},
   "outputs": [],
   "source": [
    "''' Below we are using Factor analysis to uncover latent variables from the iris \n",
    "data set. A latent variable is a hidden variable that impacts how data is behaving.\n",
    "\n",
    "--Iris Data set ---\n",
    "Iris flowers (Labels) - Setosa , Versicolor, Virginica\n",
    "Attributes (predictive features) - Sepal length, Sepal width, Petal length,Petal width\n",
    "\n",
    "Inorder to reduce the dimensionality by uncovering the combination of features that\n",
    " contain the most information. Or most variance in the data set. These will be our\n",
    " factors or latent variables. '''"
   ]
  },
  {
   "cell_type": "code",
   "execution_count": 2,
   "metadata": {},
   "outputs": [],
   "source": [
    "import numpy as np\n",
    "import pandas as pd\n",
    "\n",
    "import sklearn\n",
    "from sklearn.decomposition import FactorAnalysis\n",
    "from sklearn import datasets"
   ]
  },
  {
   "cell_type": "heading",
   "metadata": {},
   "level": 1,
   "source": [
    "FACTOR ANALYSIS on IRIS DATASET"
   ]
  },
  {
   "cell_type": "code",
   "execution_count": 3,
   "metadata": {},
   "outputs": [
    {
     "data": {
      "text/plain": [
       "array([[5.1, 3.5, 1.4, 0.2],\n       [4.9, 3. , 1.4, 0.2],\n       [4.7, 3.2, 1.3, 0.2],\n       [4.6, 3.1, 1.5, 0.2],\n       [5. , 3.6, 1.4, 0.2],\n       [5.4, 3.9, 1.7, 0.4],\n       [4.6, 3.4, 1.4, 0.3],\n       [5. , 3.4, 1.5, 0.2],\n       [4.4, 2.9, 1.4, 0.2],\n       [4.9, 3.1, 1.5, 0.1]])"
      ]
     },
     "execution_count": 3,
     "metadata": {},
     "output_type": "execute_result"
    }
   ],
   "source": [
    "# Below are the feature names on which we are doing factor analysis\n",
    "iris = datasets.load_iris()\n",
    "X = iris.data\n",
    "\n",
    "variable_names = iris.feature_names\n",
    "X[0:10,]"
   ]
  },
  {
   "cell_type": "heading",
   "metadata": {},
   "level": 1,
   "source": [
    "Now we will instantiate a factor analysis object and find the latent variables\n",
    " by calling a fit() method on the dataset"
   ]
  },
  {
   "cell_type": "code",
   "execution_count": 5,
   "metadata": {},
   "outputs": [],
   "source": [
    "factor = FactorAnalysis().fit(X = X)"
   ]
  },
  {
   "cell_type": "heading",
   "metadata": {},
   "level": 3,
   "source": [
    "We also wanted to make dataframe to look at the latent variables, or the factors, that were found. \n",
    "We do this by calling dataframe constructor on the components attribute of our factor object.\n",
    " The Component attributes represents the component or in other words factors, with maximum variance."
   ]
  },
  {
   "cell_type": "code",
   "execution_count": 6,
   "metadata": {},
   "outputs": [
    {
     "name": "stdout",
     "output_type": "stream",
     "text": [
      "   sepal length (cm)  sepal width (cm)  petal length (cm)  petal width (cm)\n0           0.706989         -0.158005           1.654236           0.70085\n1           0.115161          0.159635          -0.044321          -0.01403\n2          -0.000000          0.000000           0.000000           0.00000\n3          -0.000000          0.000000           0.000000          -0.00000\n"
     ]
    }
   ],
   "source": [
    "\n",
    "df = pd.DataFrame(factor.components_,columns=variable_names)\n",
    "print(df)"
   ]
  },
  {
   "cell_type": "heading",
   "metadata": {},
   "level": 6,
   "source": [
    "The above dataframe shows the no of components could be added to the data set which \n",
    "has hidden factors. Here, in this case the first 2 rows are the components that are added.\n",
    "Only 2 factors has significant connection with the original features"
   ]
  }
 ],
 "metadata": {
  "kernelspec": {
   "display_name": "Python 2",
   "language": "python",
   "name": "python2"
  },
  "language_info": {
   "codemirror_mode": {
    "name": "ipython",
    "version": 2
   },
   "file_extension": ".py",
   "mimetype": "text/x-python",
   "name": "python",
   "nbconvert_exporter": "python",
   "pygments_lexer": "ipython2",
   "version": "2.7.6"
  }
 },
 "nbformat": 4,
 "nbformat_minor": 0
}
