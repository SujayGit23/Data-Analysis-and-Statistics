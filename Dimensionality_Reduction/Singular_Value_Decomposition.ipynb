{
 "cells": [
  {
   "cell_type": "code",
   "execution_count": null,
   "metadata": {
    "collapsed": true
   },
   "outputs": [],
   "source": [
    "''' Singular value decomposition is a Linear Algebra method that decomposes a matrix into 3 \n",
    "resultant matrices to reduce information redundancy and noise. SVD is most commonly used for\n",
    "principal component analysis.\n",
    "\n",
    "The Anatomy of SVD:-\n",
    "We have the Original Matrix A, which is reduced into 3 Matrices 'U','S' and 'V'\n",
    " --> A matrix - the Original matrix\n",
    "1. U matrix - left orthogonal matrix;holds important, non-redundant info about observations\n",
    "2. V matrix - right orthogonal matrix;holds important, non-redundant info about on features\n",
    "3. S matrix - diagonal matrix; contains all the information about the decomposition process \n",
    "performed during the compression\n",
    "\n",
    "What is Principal Component Analysis ?\n",
    "This is most common application of SVD.It is an unsupervised machine learning algorithm that\n",
    "discovers relationships between variables and reduces variables down to a set of uncorrelated\n",
    "synthetic representations called Principal components\n",
    "PCA could be used to decompose data into one vector that decribes the factors that influence the\n",
    "the behavior, and another vector that describes the probabilities of the behaviour.\n",
    "PCA contains all of the dataset's important information,but do not include the noice and information\n",
    "redundancy and outliers that were present in the original data set\n",
    "\n",
    "Using factors and Components\n",
    "- Both factors and Components represent what is left of a data set after information redundancy ,\n",
    "and noise is stripped out\n",
    "- We can use these as the input variables for machine learning algorithms, to generate predictions\n",
    "from these compressed representations of data   '''    "
   ]
  },
  {
   "cell_type": "code",
   "execution_count": 2,
   "metadata": {},
   "outputs": [],
   "source": [
    "import numpy as py\n",
    "import pandas as pd\n",
    "\n",
    "import matplotlib.pyplot as plt\n",
    "import pylab as plt\n",
    "import seaborn as sb\n",
    "from IPython.display import Image\n",
    "from IPython.core.display import HTML\n",
    "from pylab import rcParams\n",
    "\n",
    "import sklearn\n",
    "from sklearn import decomposition\n",
    "from sklearn.decomposition import PCA\n",
    "from sklearn import datasets"
   ]
  },
  {
   "cell_type": "code",
   "execution_count": 3,
   "metadata": {},
   "outputs": [],
   "source": [
    "%matplotlib inline\n",
    "rcParams['figure.figsize']= 8,4\n",
    "plt.style.use('seaborn-whitegrid')"
   ]
  },
  {
   "cell_type": "heading",
   "metadata": {},
   "level": 6,
   "source": [
    "PCA on the iris data set"
   ]
  },
  {
   "cell_type": "code",
   "execution_count": 4,
   "metadata": {},
   "outputs": [
    {
     "data": {
      "text/plain": [
       "array([[5.1, 3.5, 1.4, 0.2],\n       [4.9, 3. , 1.4, 0.2],\n       [4.7, 3.2, 1.3, 0.2],\n       [4.6, 3.1, 1.5, 0.2],\n       [5. , 3.6, 1.4, 0.2],\n       [5.4, 3.9, 1.7, 0.4],\n       [4.6, 3.4, 1.4, 0.3],\n       [5. , 3.4, 1.5, 0.2],\n       [4.4, 2.9, 1.4, 0.2],\n       [4.9, 3.1, 1.5, 0.1]])"
      ]
     },
     "execution_count": 4,
     "metadata": {},
     "output_type": "execute_result"
    }
   ],
   "source": [
    "iris = datasets.load_iris()\n",
    "X = iris.data\n",
    "variable_names = iris.feature_names\n",
    "X[0:10,]"
   ]
  },
  {
   "cell_type": "code",
   "execution_count": 5,
   "metadata": {},
   "outputs": [
    {
     "data": {
      "text/plain": [
       "array([0.92461872, 0.05306648, 0.01710261, 0.00521218])"
      ]
     },
     "execution_count": 5,
     "metadata": {},
     "output_type": "execute_result"
    }
   ],
   "source": [
    "pca = decomposition.PCA()\n",
    "iris_pca = pca.fit_transform(X)\n",
    "\n",
    "pca.explained_variance_ratio_"
   ]
  },
  {
   "cell_type": "code",
   "execution_count": 6,
   "metadata": {},
   "outputs": [
    {
     "data": {
      "text/plain": [
       "1.0"
      ]
     },
     "execution_count": 6,
     "metadata": {},
     "output_type": "execute_result"
    }
   ],
   "source": [
    "pca.explained_variance_ratio_.sum()"
   ]
  },
  {
   "cell_type": "heading",
   "metadata": {},
   "level": 3,
   "source": [
    "Above, explained_variance_ration parameters says how many PCA's together are answering the \n",
    "variance. For example, the first 2 components parameters are adding to 97.7% and the remaining \n",
    "2.3% is removed as noise and redundancy"
   ]
  },
  {
   "cell_type": "code",
   "execution_count": 10,
   "metadata": {},
   "outputs": [
    {
     "name": "stdout",
     "output_type": "stream",
     "text": [
      "   sepal length (cm)  sepal width (cm)  petal length (cm)  petal width (cm)\n0           0.361387         -0.084523           0.856671          0.358289\n1           0.656589          0.730161          -0.173373         -0.075481\n2          -0.582030          0.597911           0.076236          0.545831\n3          -0.315487          0.319723           0.479839         -0.753657\n"
     ]
    }
   ],
   "source": [
    "comps = pd.DataFrame(pca.components_,columns=variable_names)\n",
    "print(comps)"
   ]
  },
  {
   "cell_type": "code",
   "execution_count": 11,
   "metadata": {},
   "outputs": [
    {
     "data": {
      "text/plain": [
       "<matplotlib.axes._subplots.AxesSubplot at 0xd86cd70>"
      ]
     },
     "execution_count": 11,
     "metadata": {},
     "output_type": "execute_result"
    },
    {
     "data": {
      "image/png": "[encoded data removed]",
      "text/plain": [
       "<Figure size 576x288 with 2 Axes>"
      ]
     },
     "metadata": {},
     "output_type": "display_data"
    }
   ],
   "source": [
    "sb.heatmap(comps)"
   ]
  }
 ],
 "metadata": {
  "kernelspec": {
   "display_name": "Python 2",
   "language": "python",
   "name": "python2"
  },
  "language_info": {
   "codemirror_mode": {
    "name": "ipython",
    "version": 2
   },
   "file_extension": ".py",
   "mimetype": "text/x-python",
   "name": "python",
   "nbconvert_exporter": "python",
   "pygments_lexer": "ipython2",
   "version": "2.7.6"
  }
 },
 "nbformat": 4,
 "nbformat_minor": 0
}
